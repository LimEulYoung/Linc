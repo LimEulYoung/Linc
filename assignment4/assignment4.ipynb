{
 "cells": [
  {
   "cell_type": "markdown",
   "metadata": {},
   "source": [
    "##[1번 문제]\n",
    "파일 s.txt 내의 다음 내용과 함께 아래 문제의 코드를 제시하시오."
   ]
  },
  {
   "cell_type": "markdown",
   "metadata": {},
   "source": [
    "###pig ham\n",
    "###cat dog\n",
    "###ham bird\n",
    "###dog pig"
   ]
  },
  {
   "cell_type": "markdown",
   "metadata": {},
   "source": [
    " 1) 파일 s.txt을 읽어서 각 라인에 있는 첫 번째 단어(문자열) 자체들을 기준으로 라인별 정렬후 파일 s1.txt에 그 결과를 기록하는 코드를 작성하시오. 즉, 프로그램 수행 후 s1.txt에 있는 파일 내용은 다음과 같다."
   ]
  },
  {
   "cell_type": "markdown",
   "metadata": {},
   "source": [
    "###cat dog\n",
    "###dog pig\n",
    "###ham bird\n",
    "###pig ham"
   ]
  },
  {
   "cell_type": "markdown",
   "metadata": {},
   "source": [
    "2) 파일 s.txt을 읽어서 각 라인에 있는 두 번째 단어(문자열) 자체들을 기준으로 라인별 정렬후 파일 s2.txt에 그 결과를 기록하는 코드를 작성하시오. 즉, 프로그램 수행 후 s2.txt에 있는 파일 내용은 다음과 같다."
   ]
  },
  {
   "cell_type": "markdown",
   "metadata": {},
   "source": [
    "###ham bird\n",
    "###cat dog\n",
    "###pig ham\n",
    "###dog pig"
   ]
  },
  {
   "cell_type": "markdown",
   "metadata": {},
   "source": [
    "3) 파일 s.txt을 읽어서 각 라인들에 있는 모든 단어들을 순차적으로 다시 나열하되 각 라인에 세 개의 단어들이 오도록 하여 s3.txt에 기록하는 코드를 작성하시오. 즉, 프로그램 수행 후 s3.txt에 있는 파일 내용은 다음과 같다."
   ]
  },
  {
   "cell_type": "markdown",
   "metadata": {},
   "source": [
    "###pig ham cat\n",
    "###dog ham bird\n",
    "###dog pig"
   ]
  },
  {
   "cell_type": "code",
   "execution_count": 4,
   "metadata": {
    "collapsed": true
   },
   "outputs": [],
   "source": [
    "f = open(\"s.txt\", 'r') \n",
    "lines = f.readlines()\n",
    "f.close()\n",
    "\n",
    "\n",
    "def func1(lines,x,fname):\n",
    "    lenth = len(lines)-1\n",
    "    for i in range(lenth):\n",
    "        for j in range(lenth-i):\n",
    "            if(lines[j][x-1]>lines[j+1][x-1]):\n",
    "                lines[j], lines[j+1] = lines[j+1], lines[j]\n",
    "    f = open(fname,'w')\n",
    "    for i in lines:\n",
    "        f.write(i)\n",
    "    f.close()\n",
    "\n",
    "def func2(lines,fname):\n",
    "    strs = ''.join(lines)\n",
    "    lines = strs.split()\n",
    "    f = open(fname, 'w') \n",
    "\n",
    "    index = 0\n",
    "    for i in lines:\n",
    "        index = index + 1\n",
    "        f.write(i)\n",
    "        f.write(' ')\n",
    "        if(index%3 == 0):\n",
    "            f.write('\\n')\n",
    "\n",
    "    f.close()    \n",
    "\n",
    "func1(lines,1,\"s1.txt\")\n",
    "func1(lines,2,\"s2.txt\")\n",
    "\n",
    "f = open(\"s.txt\", 'r') \n",
    "lines = f.readlines()\n",
    "f.close()\n",
    "func2(lines,\"s3.txt\")"
   ]
  },
  {
   "cell_type": "markdown",
   "metadata": {},
   "source": [
    "##[2번 문제]\n",
    "다음과 같은 조건들을 참고하여 회원 가입 및 로그인 프로그램을 작성하시오."
   ]
  },
  {
   "cell_type": "markdown",
   "metadata": {},
   "source": [
    "####2) 1을 선택하면 ID, Password, Name, School의 4가지 정보를 입력받아 파일에 저장하는 프로그램을 작성한다.\n",
    "####2-1) 입력된 내용은 access.txt 라는 이름의 텍스트 파일 내에 저장된다.\n",
    "####2-2) access.txt 파일의 각 라인에는 가입된 회원 각각의 정보가 \"[id]: [password], [name], [school]\" 형태로 저장된다.\n",
    "####2-3) 즉, 가입 회원이 10명이면 access.txt 파일 내에 라인 수도 정확히 10개이다.\n",
    "####2-4) 암호화 방식은 sha 모듈을 활용한다. sha 모듈 활용 방법은 본 문제의 마지막에 제시된 sha 활용 예를 참고한다.\n",
    "####2-5) 회원 정보를 입력 받을 때 id를 입력 받은 직후 access.txt를 확인하여 이미 존재하는 id가 입력되었다면 다음 메시지를 출력하고 id 정보를 다시 입력받는다.\n",
    "####Sorry, the entered ID is already used.\n",
    "####3) 2를 선택하면 ID, Password의 2가지 정보를 입력받는 프로그램을 작성한다.\n",
    "####3-1) 입력된 ID 정보가 access.txt에 존재하지 않으면 다음과 같은 메시지를 출력하고 다시 입력받는다.\n",
    "####Sorry, you are not a registered member.\n",
    "####3-2) 입력된 ID가 올바르게 존재하지만 Password 정보가 access.txt 파일에 있는 정보와 불일치하면 다음과 같은 메시지를 출력하고 Password를 다시 입력받는다.\n",
    "####Sorry, the entered password is not correct.\n",
    "####이 때에도 사용자가 입력한 Password 정보와 함께 sha 모듈이 활용되어야 한다.\n",
    "####3-3) 입력된 ID와 Password가 모두 올바르면 다음과 같은 메시지를 출력한다.\n",
    "####Hello [name]!\n",
    "####위 [name]에는 access.txt에 기록되어 있는 name 정보를 출력한다.\n",
    "####4) 3을 선택하면 프로그램이 끝난다."
   ]
  },
  {
   "cell_type": "code",
   "execution_count": 7,
   "metadata": {
    "collapsed": false
   },
   "outputs": [
    {
     "name": "stdout",
     "output_type": "stream",
     "text": [
      "Welcome to Our Service\n",
      " 1. Sign Up\n",
      " 2. Sign In \n",
      " 3. Quit\n",
      "1\n",
      "ID :yi\n",
      "Password :master\n",
      "Name :master\n",
      "School :Korea Tech\n"
     ]
    }
   ],
   "source": [
    "'''\n",
    "Created on 2015. 11. 7.\n",
    "\n",
    "@author: Lim\n",
    "'''\n",
    "import sha\n",
    "def user_info_list():\n",
    "    f = open(\"access.txt\",'r')\n",
    "    users = f.readlines()\n",
    "    f.close()\n",
    "    user_info = []\n",
    "    for user in users: \n",
    "        a = user.replace(':',',')\n",
    "        a = a.replace('\\n','')\n",
    "        a = a.split(',')\n",
    "        user_info.append(a)\n",
    "    \n",
    "    return user_info\n",
    "\n",
    "def id_check(id):\n",
    "    user = user_info_list()\n",
    "    index = 0\n",
    "    for i in user:\n",
    "        if(id == i[0]):\n",
    "            print 'Sorry, the entered ID is already used.'\n",
    "            return False\n",
    "        index = index + 1\n",
    "    return True\n",
    "\n",
    "def sign_up():\n",
    "    while(True):\n",
    "        id = raw_input(\"ID :\")\n",
    "        if(id_check(id)):\n",
    "            break\n",
    "    pwd = raw_input(\"Password :\")\n",
    "    pwd = sha.new(pwd).hexdigest()\n",
    "    name = raw_input(\"Name :\")\n",
    "    school = raw_input(\"School :\")\n",
    "    user = id + ':' + pwd + ',' +name + ',' +school + '\\n'    \n",
    "    f = open(\"access.txt\",'a')\n",
    "    f.write(user)\n",
    "    f.close()\n",
    "'''        \n",
    "id = raw_input(\"ID :\")\n",
    "while(True):\n",
    "    if(id_check(id, 'id')):\n",
    "        break\n",
    "'''\n",
    "def id_pwd_check(id,pwd):\n",
    "    user = user_info_list()\n",
    "    index = 0\n",
    "    for i in user:\n",
    "        if(id == i[0]):\n",
    "            if(pwd == i[1]):\n",
    "                print 'hello ',id,'!'\n",
    "                return True\n",
    "            else:\n",
    "                print 'Sorry, the entered password is not correct.'\n",
    "                return False\n",
    "    print 'Sorry, you are not a registered member.'\n",
    "    return False\n",
    "\n",
    "def sign_in():\n",
    "    while(True):\n",
    "        id = raw_input(\"ID :\")\n",
    "        pwd = raw_input(\"Password :\")\n",
    "        pwd = sha.new(pwd).hexdigest()\n",
    "        if(id_pwd_check(id,pwd)):\n",
    "            break\n",
    "           \n",
    "print 'Welcome to Our Service\\n 1. Sign Up\\n 2. Sign In \\n 3. Quit'\n",
    "select = input()\n",
    "if(select == 1):\n",
    "    sign_up()\n",
    "elif(select == 2):\n",
    "    sign_in()\n",
    "elif(select == 3):\n",
    "    quit()\n",
    "else:\n",
    "    print 'invalid select' "
   ]
  },
  {
   "cell_type": "markdown",
   "metadata": {},
   "source": [
    "###[3번 문제]\n",
    "range() 함수와 유사한 frange() 함수를 다음 조건을 참고하여 만드시오."
   ]
  },
  {
   "cell_type": "markdown",
   "metadata": {},
   "source": [
    "####1) frange()의 인자 구성은 다음과 같이 range와 동일하지만 각 인수들은 음수를 받지 않는다고 가정한다.\n",
    "-range(stop)\n",
    "-range(start, stop[, step])\n",
    "####2) frange() 함수의 인자에 대한 기본 시작(start) 값은 0.0이고, 기본 단계(step) 값은 0.1이다.\n",
    "####3) frange 사용 예\n",
    "####3-1) frange(0.5)\n",
    "[0.0, 0.1, 0.2, 0.3, 0.4]\n",
    "####3-2) frange(1.0, 2.0)\n",
    "[1.0, 1.1, 1.2, 1.3, 1.4, 1.5, 1.6, 1.7, 1.8, 1.9]\n",
    "####3-3) frange(2.2, 4.0, 0.5)\n",
    "[2.2, 2.7, 3.2, 3.7]"
   ]
  },
  {
   "cell_type": "code",
   "execution_count": 8,
   "metadata": {
    "collapsed": false
   },
   "outputs": [
    {
     "name": "stdout",
     "output_type": "stream",
     "text": [
      "[1.0, 1.1, 1.2000000000000002, 1.3000000000000003, 1.4000000000000004, 1.5000000000000004, 1.6000000000000005, 1.7000000000000006, 1.8000000000000007, 1.9000000000000008]\n"
     ]
    }
   ],
   "source": [
    "def frange(*arg):\n",
    "    if(len(arg)==1):\n",
    "        stop = arg[0]\n",
    "        start = 0.0\n",
    "        step = 0.1\n",
    "    elif(len(arg)==2):\n",
    "        step = 0.1\n",
    "        start, stop = arg\n",
    "    elif(len(arg)==3):\n",
    "        start, stop, step = arg\n",
    "    \n",
    "    result = []\n",
    "    temp = start\n",
    "    while(True):\n",
    "        result.append(temp)\n",
    "        temp = temp + step\n",
    "        if(temp >= stop):\n",
    "            return result\n",
    "        \n",
    "print frange(1.0, 2.0)"
   ]
  },
  {
   "cell_type": "markdown",
   "metadata": {},
   "source": [
    "###[4번 문제]\n",
    "가변인수를 받는 함수 sum()을 다음과 같은 조건을 참고하여 구현하시오"
   ]
  },
  {
   "cell_type": "markdown",
   "metadata": {},
   "source": [
    "####sum() 사용 예\n",
    "- sum()\n",
    "\n",
    "\n",
    "0\n",
    "\n",
    "\n",
    "* sum(1, 2)\n",
    "\n",
    "\n",
    "3\n",
    "\n",
    "\n",
    "* sum(1, 2, 3, 4, 5)\n",
    "\n",
    "\n",
    "15\n",
    "\n",
    "\n",
    "* sum(1, 5, 7, 2, -10)\n",
    "\n",
    "\n",
    "5"
   ]
  },
  {
   "cell_type": "code",
   "execution_count": 11,
   "metadata": {
    "collapsed": false
   },
   "outputs": [
    {
     "name": "stdout",
     "output_type": "stream",
     "text": [
      "0\n",
      "3\n",
      "15\n",
      "5\n"
     ]
    }
   ],
   "source": [
    "def sum(*arg):\n",
    "    result = 0\n",
    "    for i in arg:\n",
    "        result = result + i\n",
    "    return result\n",
    "print sum()\n",
    "print sum(1, 2)\n",
    "print sum(1,2,3,4,5)\n",
    "print sum(1,5,7,2,-10)"
   ]
  },
  {
   "cell_type": "markdown",
   "metadata": {},
   "source": [
    "###[5번 문제]\n",
    "여러 단어로 이루어진 문자열을 입력받아 각 단어의 첫글자로 이루어진 단어를 대문자로 출력하는 myinitial() 함수를 다음 조건을 참고하여 작성하시오."
   ]
  },
  {
   "cell_type": "markdown",
   "metadata": {},
   "source": [
    "###1) 다음에 제시되는 함수들을 모두 이용해야 한다.\n",
    "* split\n",
    "\n",
    "\n",
    "* map\n",
    "\n",
    "\n",
    "* join\n",
    "###2) myinitial() 함수 사용 예\n",
    "* myinitial(\"as soon as possible\")\n",
    "\n",
    "\n",
    "* ASAP"
   ]
  },
  {
   "cell_type": "code",
   "execution_count": 13,
   "metadata": {
    "collapsed": false
   },
   "outputs": [
    {
     "name": "stdout",
     "output_type": "stream",
     "text": [
      "ASAP\n"
     ]
    }
   ],
   "source": [
    "def myinitial(x):\n",
    "    l = x.split()\n",
    "    l =list(map(abc,l))\n",
    "    return ''.join(l)\n",
    "\n",
    "def abc(x):\n",
    "    return x[0][0].upper()\n",
    "\n",
    "print myinitial('as soon as posible')"
   ]
  },
  {
   "cell_type": "markdown",
   "metadata": {},
   "source": [
    "####[6번 문제]\n",
    "음이 아닌 정수 n를 입력받으면 n! (factorial)을 계산하는 myfact() 함수를 재귀적 함수로 구현하시오.\n",
    "\n",
    "* [옵션] 참을 수 있는 정도 만큼의 수행시간을 직접 기다려보면서 n을 늘려보도록 합시다."
   ]
  },
  {
   "cell_type": "code",
   "execution_count": 16,
   "metadata": {
    "collapsed": false
   },
   "outputs": [
    {
     "name": "stdout",
     "output_type": "stream",
     "text": [
      "3628800\n"
     ]
    }
   ],
   "source": [
    "def myfact(n):\n",
    "    if n == 0:\n",
    "        return 1\n",
    "    else:\n",
    "        return n * myfact(n-1)\n",
    "    \n",
    "print myfact(10)"
   ]
  },
  {
   "cell_type": "markdown",
   "metadata": {},
   "source": [
    "###[7번 문제]\n",
    "(서술형) import string 과 from string import * 의 차이점을 설명하시오."
   ]
  },
  {
   "cell_type": "markdown",
   "metadata": {},
   "source": [
    "###import string\n",
    "모듈 string를 불러오라는 뜻이다. 그리고 현재의 네임스페이스에 x모듈의 레퍼런스를 만든다.\n",
    "string의 리퍼런스 딱 한개.\n",
    "이 말은, 이 모듈에 접근 할때 모듈의 접근 경로를 직접 적어 주어야 한는 말이 된다..\n",
    "예를들어, string.x1이나 string.x2라고 경로를 입력해 주어야 함수를 사용할 수 있다.\n",
    "\n",
    "###from string import *\n",
    "이것 또한 모듈 X를 불러온다. 그러나 import x와는 다르게 x모듈의 모든 객체에 대한 레퍼런스를 만든다.\n",
    "예를들어, x.name이런식으로 접근할 수가 없다. x는 정의 되지 않았기 때문에...\n",
    "x1()으로 접근 할 수 있다.\n",
    "이 방법이 비추천 되는데, 그 이유는 현재 작업공간에 있는 변수들과 이름이 충돌 할 수 있기 때문이다."
   ]
  },
  {
   "cell_type": "markdown",
   "metadata": {},
   "source": [
    "###[8번 문제]\n",
    "프로젝트 오일러 문제 10"
   ]
  },
  {
   "cell_type": "code",
   "execution_count": 23,
   "metadata": {
    "collapsed": false
   },
   "outputs": [
    {
     "name": "stdout",
     "output_type": "stream",
     "text": [
      "142913828922\n"
     ]
    }
   ],
   "source": [
    "import math\n",
    "\n",
    "\n",
    "def is_prime(n):\n",
    "    bPrime = True\n",
    "    for i in range(2,int(math.sqrt(n))+1):\n",
    "        if n%i==0:\n",
    "            bPrime = False\n",
    "            break\n",
    "    return bPrime\n",
    "\n",
    "n = 0\n",
    "\n",
    "\n",
    "for i in range(2,2000000):\n",
    "    if(is_prime(i)):\n",
    "        n = n + i\n",
    "\n",
    "print n"
   ]
  },
  {
   "cell_type": "markdown",
   "metadata": {},
   "source": [
    "###[9번 문제]\n",
    "프로젝트 오일러 문제 11"
   ]
  },
  {
   "cell_type": "code",
   "execution_count": 18,
   "metadata": {
    "collapsed": false
   },
   "outputs": [
    {
     "name": "stdout",
     "output_type": "stream",
     "text": [
      "[[8, 2, 22, 97, 38, 15, 0, 40, 0, 75, 4, 5, 7, 78, 52, 12, 50, 77, 91, 8], [49, 49, 99, 40, 17, 81, 18, 57, 60, 87, 17, 40, 98, 43, 69, 48, 4, 56, 62, 0], [81, 49, 31, 73, 55, 79, 14, 29, 93, 71, 40, 67, 53, 88, 30, 3, 49, 13, 36, 65], [52, 70, 95, 23, 4, 60, 11, 42, 69, 24, 68, 56, 1, 32, 56, 71, 37, 2, 36, 91], [22, 31, 16, 71, 51, 67, 63, 89, 41, 92, 36, 54, 22, 40, 40, 28, 66, 33, 13, 80], [24, 47, 32, 60, 99, 3, 45, 2, 44, 75, 33, 53, 78, 36, 84, 20, 35, 17, 12, 50], [32, 98, 81, 28, 64, 23, 67, 10, 26, 38, 40, 67, 59, 54, 70, 66, 18, 38, 64, 70], [67, 26, 20, 68, 2, 62, 12, 20, 95, 63, 94, 39, 63, 8, 40, 91, 66, 49, 94, 21], [24, 55, 58, 5, 66, 73, 99, 26, 97, 17, 78, 78, 96, 83, 14, 88, 34, 89, 63, 72], [21, 36, 23, 9, 75, 0, 76, 44, 20, 45, 35, 14, 0, 61, 33, 97, 34, 31, 33, 95], [78, 17, 53, 28, 22, 75, 31, 67, 15, 94, 3, 80, 4, 62, 16, 14, 9, 53, 56, 92], [16, 39, 5, 42, 96, 35, 31, 47, 55, 58, 88, 24, 0, 17, 54, 24, 36, 29, 85, 57], [86, 56, 0, 48, 35, 71, 89, 7, 5, 44, 44, 37, 44, 60, 21, 58, 51, 54, 17, 58], [19, 80, 81, 68, 5, 94, 47, 69, 28, 73, 92, 13, 86, 52, 17, 77, 4, 89, 55, 40], [4, 52, 8, 83, 97, 35, 99, 16, 7, 97, 57, 32, 16, 26, 26, 79, 33, 27, 98, 66], [88, 36, 68, 87, 57, 62, 20, 72, 3, 46, 33, 67, 46, 55, 12, 32, 63, 93, 53, 69], [4, 42, 16, 73, 38, 25, 39, 11, 24, 94, 72, 18, 8, 46, 29, 32, 40, 62, 76, 36], [20, 69, 36, 41, 72, 30, 23, 88, 34, 62, 99, 69, 82, 67, 59, 85, 74, 4, 36, 16], [20, 73, 35, 29, 78, 31, 90, 1, 74, 31, 49, 71, 48, 86, 81, 16, 23, 57, 5, 54], [1, 70, 54, 71, 83, 51, 54, 69, 16, 92, 33, 48, 61, 43, 52, 1, 89, 19, 67, 48]]\n",
      "51267216\n",
      "48477312\n",
      "40304286\n",
      "70600674\n"
     ]
    }
   ],
   "source": [
    "decimal = []\n",
    "col = 0\n",
    "f = open(\"solution8.txt\",'r')\n",
    "\n",
    "while(True):\n",
    "    temp = f.readline()\n",
    "    if(not temp):\n",
    "        break\n",
    "    else:\n",
    "        decimal.append(temp)\n",
    "f.close()\n",
    "\n",
    "a  = [[],[],[],[],[],[],[],[],[],[],[],[],[],[],[],[],[],[],[],[]]\n",
    "\n",
    "index = 0\n",
    "for i in decimal:\n",
    "    temp = i.split()\n",
    "    for i in temp:\n",
    "        a[index].append(int(i))\n",
    "    index = index + 1        \n",
    "print a           \n",
    "\n",
    "\n",
    "vertical_mul = 0\n",
    "horizontal_mul = 0\n",
    "cross_mul = 0\n",
    "cross_mul2 = 0\n",
    "for i in range(20):\n",
    "    for j in range(20):\n",
    "        if(i < 17):\n",
    "            temp = a[i][j] * a[i+1][j] * a[i+2][j] * a[i+3][j]\n",
    "            if(temp>vertical_mul):\n",
    "                vertical_mul = temp\n",
    "\n",
    "print vertical_mul\n",
    "\n",
    "for i in range(20):\n",
    "    for j in range(20):\n",
    "        if(j < 17):\n",
    "            temp = a[i][j] * a[i][j+1] * a[i][j+2] * a[i][j+3]\n",
    "            if(temp>horizontal_mul):\n",
    "                horizontal_mul = temp\n",
    "\n",
    "print horizontal_mul\n",
    "\n",
    "for i in range(20):\n",
    "    for j in range(20):\n",
    "        if((j < 17) and (i < 17)):\n",
    "            temp = a[i][j] * a[i+1][j+1] * a[i+2][j+2] * a[i+3][j+3]\n",
    "            if(temp>cross_mul):\n",
    "                cross_mul = temp\n",
    "                \n",
    "print cross_mul\n",
    "\n",
    "for i in range(20):\n",
    "    for j in range(20):\n",
    "        if((j < 17) and (i < 17)):\n",
    "            temp = a[i][j+3] * a[i+1][j+2] * a[i+2][j+1] * a[i+3][j]\n",
    "            if(temp>cross_mul2):\n",
    "                cross_mul2 = temp\n",
    "                \n",
    "\n",
    "print cross_mul2"
   ]
  },
  {
   "cell_type": "markdown",
   "metadata": {},
   "source": [
    "###[10번 문제]\n",
    "프로젝트 오일러 문제 12"
   ]
  },
  {
   "cell_type": "code",
   "execution_count": 19,
   "metadata": {
    "collapsed": false
   },
   "outputs": [
    {
     "name": "stdout",
     "output_type": "stream",
     "text": [
      "76576500\n"
     ]
    }
   ],
   "source": [
    "def tri(i):\n",
    "    n=0\n",
    "    while i>0:\n",
    "        n = n + i\n",
    "        i = i - 1\n",
    "    else:\n",
    "        return n\n",
    "    \n",
    "def triangle_number(n):\n",
    "    temp = 0\n",
    "    for i in range(n+1):\n",
    "        temp = temp + i\n",
    "    return temp\n",
    "\n",
    "\n",
    "def aliquot(n):\n",
    "    i=1\n",
    "    j=0\n",
    "    while i<=n**0.5:\n",
    "        if n%i==0:\n",
    "            if i==n**0.5:\n",
    "                j = j + 1\n",
    "                i = i + 1\n",
    "            else:\n",
    "                j = j + 2\n",
    "                i = i + 1\n",
    "        else:\n",
    "            i = i + 1\n",
    "    else:\n",
    "        return j\n",
    "n=1\n",
    "while aliquot(triangle_number(n))<500:\n",
    "    n = n + 1\n",
    "else:\n",
    "    print triangle_number(n)"
   ]
  },
  {
   "cell_type": "markdown",
   "metadata": {},
   "source": [
    "###[11번 문제]\n",
    "프로젝트 오일러 문제 13"
   ]
  },
  {
   "cell_type": "code",
   "execution_count": 20,
   "metadata": {
    "collapsed": false
   },
   "outputs": [
    {
     "name": "stdout",
     "output_type": "stream",
     "text": [
      "5537376230390876637302048746832985971773659831892672\n"
     ]
    }
   ],
   "source": [
    "f = open(\"solution11.txt\",'r')\n",
    "sum = 0\n",
    "\n",
    "while(True):\n",
    "    temp = f.readline()\n",
    "    if(not temp):\n",
    "        break\n",
    "    else:\n",
    "        sum = sum + int(temp)\n",
    "\n",
    "f.close()\n",
    "print sum"
   ]
  },
  {
   "cell_type": "markdown",
   "metadata": {},
   "source": [
    "###[12번 문제]\n",
    "프로젝트 오일러 문제 14"
   ]
  },
  {
   "cell_type": "code",
   "execution_count": 21,
   "metadata": {
    "collapsed": false
   },
   "outputs": [
    {
     "name": "stdout",
     "output_type": "stream",
     "text": [
      "525 837799\n"
     ]
    }
   ],
   "source": [
    "n = 13\n",
    "count = 2\n",
    "max = 0\n",
    "max_num = 0\n",
    "\n",
    "def long_cal(n):\n",
    "    if(n%2 == 0):\n",
    "        return n / 2\n",
    "    else:\n",
    "        return 3 * n + 1\n",
    " \n",
    "\n",
    "\n",
    "\n",
    "for n in range(500000,1000000):\n",
    "    temp = n\n",
    "    count = 2\n",
    "    while(True):\n",
    "        n = long_cal(n)\n",
    "        if(n == 1):\n",
    "            break\n",
    "        else:\n",
    "            count = count + 1\n",
    "    if(count>max):\n",
    "        max = count\n",
    "        max_num = temp\n",
    "        \n",
    "print max, max_num"
   ]
  },
  {
   "cell_type": "markdown",
   "metadata": {},
   "source": [
    "###[13번 문제]\n",
    "프로젝트 오일러 문제 15"
   ]
  },
  {
   "cell_type": "code",
   "execution_count": 22,
   "metadata": {
    "collapsed": false
   },
   "outputs": [
    {
     "name": "stdout",
     "output_type": "stream",
     "text": [
      "137846528820\n"
     ]
    }
   ],
   "source": [
    "def myfact(n):\n",
    "    if n == 0:\n",
    "        return 1\n",
    "    else:\n",
    "        return n * myfact(n-1)\n",
    "\n",
    "print myfact(40)/(myfact(20)*myfact(20))"
   ]
  },
  {
   "cell_type": "markdown",
   "metadata": {},
   "source": [
    "###[14번 문제]\n",
    "이전 Assignment 3의 마지막 문제는 웹 URL로 지정된 웹페이지를 문자열로 가져와 모든 HTML 태그 및 CSS와 Javascript를 제외한 순수 텍스트를 얻어내고 그 안에 존재하는 단어를 추출하여 각 단어들에 대해 출현빈도를 사전형태({'world': 2, 'hello': 1, 'python': 1})로 저장하여 출력하는 것이었다. 이번에는 Assignment 3를 확장하여 다음과 같은 조건을 만족하도록 구현하시오.\n",
    "\n",
    "####1) 다음 사이트에서 제시되는 영어 불용어를 참고하여 이전 숙제에서 구성했던 단어 사전에서 영어 불용어들을 모두 제거하는 코드를 추가하시오.\n",
    "http://egloos.zum.com/wyb330/v/3029348\n",
    "\n",
    "\n",
    "영어 불용어: [ 'a', 'and', 'are', 'as', 'at', 'be', 'but', 'by', 'for', 'if', 'in', 'into', 'is', 'it', 'no', 'not', 'of', 'on', 'or', 's', 'such', 't', 'that', 'the', 'their', 'then', 'there', 'these', 'they', 'this', 'to', 'was', 'will', 'with']\n",
    "\n",
    "\n",
    "####2) 각 URL로 지정된 웹페이지의 HTML 소스를 파일로 저장하시오.\n",
    "URL이 http://URL 이라면 파일명은 URL.html 이다.\n",
    "\n",
    "\n",
    "예: URL이 http://www.cnn.com 이라면 파일명은 www.cnn.com.html 이다.\n",
    "####3) 단어의 출현빈도가 담긴 사전 객체를 위 HTML 소스 파일과 동일한 폴더에 파일로 저장하시오.\n",
    "파일입출력 (E-learning 13주차) 마지막에 학습한 pickle 모듈을 활용하시오.\n",
    "\n",
    "\n",
    "URL이 http://URL 이라면 사전 객체를 담고 있는 파일명은 URL.words.frequency 이다.\n",
    "\n",
    "\n",
    "예: URL이 http://www.cnn.com 이라면 파일명은 www.cnn.com.words.frequency 이다.\n",
    "####4) 최소 5개 이상의 영어 웹 사이트에 대한 HTML 소스 파일과 단어 출현빈도 파일을 저장하시오.\n",
    "즉, 총 10개의 파일을 동일한 폴더에 생성하시오.\n",
    "\n",
    "\n",
    "\n",
    "\n",
    "[주의] 영어 웹사이트 URL로만 5개 이상\n",
    "####5) 위 문제에서 저장한 모든 words.frequency 파일들을 객체로 다시 로드하여 본인이 저장하여 분석한 사이트들에서 가장 많이 출현한 단어 3개를 뽑아 제시하시오.\n",
    "반드시 pickle 모듈로 저장한 5개 이상의 words.frequency를 다시 5개 이상의 사전 객체로 로드 하는 코드가 추가되어야 함"
   ]
  }
 ],
 "metadata": {
  "kernelspec": {
   "display_name": "Python 2",
   "language": "python",
   "name": "python2"
  },
  "language_info": {
   "codemirror_mode": {
    "name": "ipython",
    "version": 2
   },
   "file_extension": ".py",
   "mimetype": "text/x-python",
   "name": "python",
   "nbconvert_exporter": "python",
   "pygments_lexer": "ipython2",
   "version": "2.7.9"
  }
 },
 "nbformat": 4,
 "nbformat_minor": 0
}
